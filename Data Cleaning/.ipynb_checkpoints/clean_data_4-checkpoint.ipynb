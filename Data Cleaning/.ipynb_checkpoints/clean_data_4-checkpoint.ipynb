{
 "cells": [
  {
   "cell_type": "code",
   "execution_count": 2,
   "id": "de482139-7ce0-4c37-b006-d7d14d48e99b",
   "metadata": {},
   "outputs": [],
   "source": [
    "import pandas as pd\n",
    "import re\n",
    "from langdetect import detect, DetectorFactory\n",
    "from deep_translator import GoogleTranslator\n",
    "from fuzzywuzzy import process"
   ]
  },
  {
   "cell_type": "code",
   "execution_count": 3,
   "id": "6214ff1a-69e1-4f1a-9c07-d948a1887a7c",
   "metadata": {},
   "outputs": [],
   "source": [
    "# Ensure consistent results from langdetect\n",
    "DetectorFactory.seed = 0"
   ]
  },
  {
   "cell_type": "code",
   "execution_count": 4,
   "id": "9d95f296-e831-436c-b14f-72bf511cf4a9",
   "metadata": {},
   "outputs": [],
   "source": [
    "# Function to clean queries\n",
    "def clean_text(text):\n",
    "    text = str(text).strip().lower()  # Lowercase and strip spaces\n",
    "    text = re.sub(r\"\\s+\", \" \", text)  # Remove extra spaces\n",
    "    text = re.sub(r\"[^\\w\\s]\", \"\", text)  # Remove special characters\n",
    "    return text"
   ]
  },
  {
   "cell_type": "code",
   "execution_count": 5,
   "id": "d3c71f45-2dc8-4d9e-a63f-ea72e971fb67",
   "metadata": {},
   "outputs": [],
   "source": [
    "# Function to detect language\n",
    "def detect_language(text):\n",
    "    try:\n",
    "        return detect(text)\n",
    "    except:\n",
    "        return \"unknown\""
   ]
  },
  {
   "cell_type": "code",
   "execution_count": 6,
   "id": "8ed3549b-e3c0-49a7-94bf-28a5e3600e0f",
   "metadata": {},
   "outputs": [],
   "source": [
    "crops = ['green_gram', 'red_gram', 'black_gram', 'groundnut', 'rice', 'cotton']"
   ]
  },
  {
   "cell_type": "code",
   "execution_count": 8,
   "id": "1df8c11b-a1e2-4bbe-b174-d98bea81bdc6",
   "metadata": {},
   "outputs": [],
   "source": [
    "for crop in crops:\n",
    "    filename = f\"{crop}.csv\"\n",
    "    df = pd.read_csv(filename)\n",
    "\n",
    "    # Step 1: Detect language\n",
    "    df[\"Language\"] = df[\"KccAns\"].apply(detect_language)\n",
    "\n",
    "    # Step 2: Split into English and Telugu files\n",
    "    df_telugu = df[df[\"Language\"] == \"te\"]\n",
    "    df_english = df[df[\"Language\"] == \"en\"]\n",
    "\n",
    "    # Save separate files\n",
    "    df_telugu.to_csv(f\"{crop}_telugu.csv\", index=False)\n",
    "    df_english.to_csv(f\"{crop}_english.csv\", index=False)"
   ]
  },
  {
   "cell_type": "code",
   "execution_count": 12,
   "id": "a1a7fffe-d770-42d5-bc93-142e79c8197d",
   "metadata": {},
   "outputs": [
    {
     "name": "stdout",
     "output_type": "stream",
     "text": [
      "green_gram_english length: 1636\n",
      "green_gram_telugu length: 891\n",
      "red_gram_english length: 1565\n",
      "red_gram_telugu length: 1290\n",
      "black_gram_english length: 3765\n",
      "black_gram_telugu length: 2505\n",
      "groundnut_english length: 4965\n",
      "groundnut_telugu length: 3084\n",
      "rice_english length: 9978\n",
      "rice_telugu length: 8263\n",
      "cotton_english length: 5551\n",
      "cotton_telugu length: 3468\n"
     ]
    }
   ],
   "source": [
    "for crop in crops:\n",
    "    filename = f\"{crop}_english.csv\"\n",
    "    df = pd.read_csv(filename)\n",
    "    print(f\"{crop}_english length: {len(df)}\")\n",
    "    filename = f\"{crop}_telugu.csv\"\n",
    "    df = pd.read_csv(filename)\n",
    "    print(f\"{crop}_telugu length: {len(df)}\")"
   ]
  },
  {
   "cell_type": "code",
   "execution_count": null,
   "id": "9f2373ef-b454-42c8-9c0f-973c5edfdfe1",
   "metadata": {},
   "outputs": [],
   "source": []
  }
 ],
 "metadata": {
  "kernelspec": {
   "display_name": "Python 3 (ipykernel)",
   "language": "python",
   "name": "python3"
  },
  "language_info": {
   "codemirror_mode": {
    "name": "ipython",
    "version": 3
   },
   "file_extension": ".py",
   "mimetype": "text/x-python",
   "name": "python",
   "nbconvert_exporter": "python",
   "pygments_lexer": "ipython3",
   "version": "3.11.11"
  }
 },
 "nbformat": 4,
 "nbformat_minor": 5
}
