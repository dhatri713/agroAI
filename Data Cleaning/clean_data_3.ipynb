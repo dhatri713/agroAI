{
 "cells": [
  {
   "cell_type": "code",
   "execution_count": 19,
   "id": "04bb1f8a-8a30-469f-a6c9-38e53eb9310f",
   "metadata": {},
   "outputs": [],
   "source": [
    "import pandas as pd\n",
    "import numpy as np\n",
    "import re"
   ]
  },
  {
   "cell_type": "code",
   "execution_count": 20,
   "id": "63df0c4b-4583-474a-90f1-5d2a4fbab10d",
   "metadata": {},
   "outputs": [],
   "source": [
    "df = pd.read_csv(\"FINAL_CLEANED_DATASET_KCC_ENG.csv\")"
   ]
  },
  {
   "cell_type": "code",
   "execution_count": 21,
   "id": "aeb414a0-762e-4ef8-8694-2e1b6916b1ef",
   "metadata": {},
   "outputs": [
    {
     "data": {
      "text/html": [
       "<div>\n",
       "<style scoped>\n",
       "    .dataframe tbody tr th:only-of-type {\n",
       "        vertical-align: middle;\n",
       "    }\n",
       "\n",
       "    .dataframe tbody tr th {\n",
       "        vertical-align: top;\n",
       "    }\n",
       "\n",
       "    .dataframe thead th {\n",
       "        text-align: right;\n",
       "    }\n",
       "</style>\n",
       "<table border=\"1\" class=\"dataframe\">\n",
       "  <thead>\n",
       "    <tr style=\"text-align: right;\">\n",
       "      <th></th>\n",
       "      <th>Crop</th>\n",
       "      <th>QueryText</th>\n",
       "      <th>KccAns</th>\n",
       "    </tr>\n",
       "  </thead>\n",
       "  <tbody>\n",
       "    <tr>\n",
       "      <th>0</th>\n",
       "      <td>Paddy (Dhan)</td>\n",
       "      <td>asked about the control of bph in rice</td>\n",
       "      <td>recommended to spray acephate 1.5gm/lt</td>\n",
       "    </tr>\n",
       "    <tr>\n",
       "      <th>1</th>\n",
       "      <td>Paddy (Dhan)</td>\n",
       "      <td>asked about the control of leaf folder in rice</td>\n",
       "      <td>recommended to spray acephate 1.5gm/lt</td>\n",
       "    </tr>\n",
       "    <tr>\n",
       "      <th>2</th>\n",
       "      <td>Paddy (Dhan)</td>\n",
       "      <td>asked about the control of hispa in rice</td>\n",
       "      <td>recommended to spray monocrotophos 1.6ml/lt</td>\n",
       "    </tr>\n",
       "    <tr>\n",
       "      <th>3</th>\n",
       "      <td>Paddy (Dhan)</td>\n",
       "      <td>asked about the control of blast in rice</td>\n",
       "      <td>recommended to spray tricyclozole 0.06gm/lt</td>\n",
       "    </tr>\n",
       "    <tr>\n",
       "      <th>4</th>\n",
       "      <td>Paddy (Dhan)</td>\n",
       "      <td>asked about the control of weeds in rice</td>\n",
       "      <td>recommended to spray benthiocarb 1.6lt/acre</td>\n",
       "    </tr>\n",
       "  </tbody>\n",
       "</table>\n",
       "</div>"
      ],
      "text/plain": [
       "           Crop                                       QueryText  \\\n",
       "0  Paddy (Dhan)          asked about the control of bph in rice   \n",
       "1  Paddy (Dhan)  asked about the control of leaf folder in rice   \n",
       "2  Paddy (Dhan)        asked about the control of hispa in rice   \n",
       "3  Paddy (Dhan)        asked about the control of blast in rice   \n",
       "4  Paddy (Dhan)        asked about the control of weeds in rice   \n",
       "\n",
       "                                        KccAns  \n",
       "0       recommended to spray acephate 1.5gm/lt  \n",
       "1       recommended to spray acephate 1.5gm/lt  \n",
       "2  recommended to spray monocrotophos 1.6ml/lt  \n",
       "3  recommended to spray tricyclozole 0.06gm/lt  \n",
       "4  recommended to spray benthiocarb 1.6lt/acre  "
      ]
     },
     "execution_count": 21,
     "metadata": {},
     "output_type": "execute_result"
    }
   ],
   "source": [
    "df.head()"
   ]
  },
  {
   "cell_type": "code",
   "execution_count": 22,
   "id": "189afed9-1215-4d05-92ee-fd51e376e2a8",
   "metadata": {},
   "outputs": [
    {
     "data": {
      "text/plain": [
       "Crop\n",
       "Chillies                           23024\n",
       "Paddy (Dhan)                       19375\n",
       "Cotton (Kapas)                      9954\n",
       "Groundnut (pea nut/mung phalli)     8800\n",
       "Black Gram (urd bean)               6780\n",
       "Pigeon pea (red gram/arhar/tur)     3115\n",
       "Green Gram (Moong Bean/ Moong)      2863\n",
       "Name: count, dtype: int64"
      ]
     },
     "execution_count": 22,
     "metadata": {},
     "output_type": "execute_result"
    }
   ],
   "source": [
    "crop_counts = df['Crop'].value_counts()\n",
    "crop_counts"
   ]
  },
  {
   "cell_type": "code",
   "execution_count": 23,
   "id": "0463f1d9-4ce0-43a1-b03d-da4f1c91245a",
   "metadata": {},
   "outputs": [],
   "source": [
    "# Unique crop names\n",
    "crops = df[\"Crop\"].unique()"
   ]
  },
  {
   "cell_type": "code",
   "execution_count": 24,
   "id": "abe35f29-9bb7-4fa0-80d3-d30387337153",
   "metadata": {},
   "outputs": [],
   "source": [
    "# Function to sanitize filenames\n",
    "def sanitize_filename(name):\n",
    "    return re.sub(r'[^\\w\\s-]', '', name).replace(\" \", \"_\")"
   ]
  },
  {
   "cell_type": "code",
   "execution_count": 25,
   "id": "d9a6f33e-8398-4fec-a299-ba93e1102811",
   "metadata": {},
   "outputs": [],
   "source": [
    "for crop in crops:\n",
    "    crop_df = df[df[\"Crop\"] == crop].drop(columns=[\"Crop\"])  # Remove \"Crop\" column\n",
    "    safe_filename = sanitize_filename(crop)  # Clean the filename\n",
    "    crop_df.to_csv(f\"{safe_filename}_queries.csv\", index=False)  # Save file"
   ]
  }
 ],
 "metadata": {
  "kernelspec": {
   "display_name": "Python 3 (ipykernel)",
   "language": "python",
   "name": "python3"
  },
  "language_info": {
   "codemirror_mode": {
    "name": "ipython",
    "version": 3
   },
   "file_extension": ".py",
   "mimetype": "text/x-python",
   "name": "python",
   "nbconvert_exporter": "python",
   "pygments_lexer": "ipython3",
   "version": "3.11.11"
  }
 },
 "nbformat": 4,
 "nbformat_minor": 5
}
